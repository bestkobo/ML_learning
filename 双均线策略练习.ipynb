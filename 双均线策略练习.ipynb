{
 "cells": [
  {
   "cell_type": "code",
   "execution_count": 1,
   "id": "e27249ec-b8a5-42b2-b265-8fb0c28e7002",
   "metadata": {},
   "outputs": [],
   "source": [
    "import akshare as ak\n",
    "import pandas as pd\n",
    "import numpy as np\n",
    "import matplotlib.pyplot as plt\n",
    "from datetime import datetime, timedelta\n"
   ]
  },
  {
   "cell_type": "code",
   "execution_count": 2,
   "id": "316741ec-f9a6-4562-8835-65492391328d",
   "metadata": {},
   "outputs": [],
   "source": [
    "#整合买卖信号\n",
    "def  allsingal(df):\n",
    "    df['buy_signal']=np.where((df['buy_signal']==1) & (df['buy_signal'].shift(1) ==1) ,0,df['buy_signal'])#只保留第一个信号\n",
    "    df['sell_signal']=np.where((df['sell_signal']==-1) & (df['sell_signal'].shift(1) ==-1) ,0,df['sell_signal'])\n",
    "    df['signal']=df['buy_signal']+df['sell_signal']\n",
    "    df.drop([ 'buy_signal','sell_signal'],axis=1) \n",
    "    return df            #返回整合买卖信号的df\n"
   ]
  },
  {
   "cell_type": "code",
   "execution_count": 3,
   "id": "9492cfbd-41f9-4130-a74a-8934cf845ee4",
   "metadata": {},
   "outputs": [],
   "source": [
    "#按照每笔交易计算收益率(而非每日净值)\n",
    "def cal_r(df):\n",
    "    df=df[df['signal'] !=0 ]             #时间序列变成了仅交易日序列\n",
    "    df['r']=df['收盘'].pct_change()  #收益率:当天交易收盘价-上一次交易收盘价/当天交易收盘价\n",
    "    df=df[df['signal'] ==-1 ]          #时间序列变成了仅卖出日序列\n",
    "    df['cumr']=(1+df['r']).cumprod() - 1   #按照每笔交易计算累计收益率\n",
    "    return df\n"
   ]
  },
  {
   "cell_type": "code",
   "execution_count": 4,
   "id": "e335d607-65f2-4804-998c-0c735b30bc60",
   "metadata": {},
   "outputs": [],
   "source": [
    "#双均线策略\n",
    "def ma_strategy(df, short_window=10, long_window=60):\n",
    "    #计算长短均线\n",
    "    df['short_ma']=df['涨跌幅'].rolling(short_window).mean()\n",
    "    df['long_ma']=df['涨跌幅'].rolling(long_window).mean()\n",
    "    #生成买卖信号\n",
    "    df['buy_signal']=np.where((df['short_ma']>df['long_ma']),1,0)\n",
    "    df['sell_signal']=np.where((df['short_ma']<df['long_ma']),-1,0)\n",
    "    #整合信号\n",
    "    df=allsingal(df) \n",
    "    df=df[df['signal'] !=0 ] \n",
    "    return df[['收盘','short_ma','long_ma','signal']]  \n"
   ]
  },
  {
   "cell_type": "code",
   "execution_count": 9,
   "id": "089543ac-316d-4ac2-a27d-ac6fd330d68f",
   "metadata": {},
   "outputs": [
    {
     "name": "stdout",
     "output_type": "stream",
     "text": [
      "开仓次数: 12\n",
      "                收盘  short_ma   long_ma  signal\n",
      "日期                                            \n",
      "2024-07-25  250.39    -0.085  0.239167      -1\n",
      "2024-08-20  236.48     0.331  0.230500       1\n",
      "2024-09-23  250.00    -0.102  0.019500      -1\n",
      "2024-09-24  254.29     0.119  0.043167       1\n",
      "2024-10-21  306.45     0.054  0.301500      -1\n",
      "2024-10-30  305.55     0.544  0.375000       1\n",
      "2024-10-31  293.19     0.152  0.342167      -1\n",
      "2024-12-12  283.68     0.333  0.246333       1\n",
      "2024-12-13  276.51     0.071  0.147833      -1\n",
      "2024-12-19  285.40     0.371  0.218833       1\n",
      "2024-12-20  280.20     0.007  0.183667      -1\n",
      "2024-12-25  285.92     0.196  0.173167       1\n",
      "2024-12-26  284.86     0.055  0.123833      -1\n",
      "2024-12-27  286.28     0.358  0.043333       1\n",
      "2025-01-02  271.10    -0.473 -0.181167      -1\n",
      "2025-01-16  272.76     0.071 -0.193500       1\n",
      "2025-02-28  361.82     0.191  0.449000      -1\n",
      "2025-03-17  380.25     0.575  0.520000       1\n",
      "2025-03-21  372.00     0.481  0.481833      -1\n",
      "2025-03-24  375.36     0.723  0.492500       1\n",
      "2025-03-28  382.50     0.214  0.521167      -1\n",
      "2025-04-21  348.76     0.834  0.457167       1\n",
      "2025-04-25  370.83     0.456  0.502333      -1\n",
      "                收盘  short_ma   long_ma  signal         r      cumr\n",
      "日期                                                                \n",
      "2024-07-25  250.39    -0.085  0.239167      -1       NaN       NaN\n",
      "2024-09-23  250.00    -0.102  0.019500      -1  0.057172  0.057172\n",
      "2024-10-21  306.45     0.054  0.301500      -1  0.205120  0.274019\n",
      "2024-10-31  293.19     0.152  0.342167      -1 -0.040452  0.222483\n",
      "2024-12-13  276.51     0.071  0.147833      -1 -0.025275  0.191585\n",
      "2024-12-20  280.20     0.007  0.183667      -1 -0.018220  0.169874\n",
      "2024-12-26  284.86     0.055  0.123833      -1 -0.003707  0.165537\n",
      "2025-01-02  271.10    -0.473 -0.181167      -1 -0.053025  0.103734\n",
      "2025-02-28  361.82     0.191  0.449000      -1  0.326514  0.464119\n",
      "2025-03-21  372.00     0.481  0.481833      -1 -0.021696  0.432353\n",
      "2025-03-28  382.50     0.214  0.521167      -1  0.019022  0.459599\n",
      "2025-04-25  370.83     0.456  0.502333      -1  0.063281  0.551964\n"
     ]
    }
   ],
   "source": [
    "#使用策略并计算收益率\n",
    "end_date=datetime.now().strftime(\"%Y%m%d\")\n",
    "start_date = (datetime.now()- timedelta(days=365)).strftime(\"%Y%m%d\")\n",
    "df=ak.stock_zh_a_hist(\"002594\", start_date=start_date , end_date=end_date,period=\"daily\", adjust=\"\")             #获取数据开始时间比想测试时间更早1个long_window\n",
    "df.set_index('日期', inplace=True)\n",
    "df_ma=ma_strategy(df)\n",
    "df_ma_r=cal_r(df_ma)\n",
    "print(\"开仓次数:\",len(df_ma_r))\n",
    "print(df_ma)\n",
    "print(df_ma_r)\n"
   ]
  },
  {
   "cell_type": "code",
   "execution_count": 11,
   "id": "ca8bf80c-846d-4771-863c-6468d045825e",
   "metadata": {},
   "outputs": [
    {
     "data": {
      "text/plain": [
       "[<matplotlib.lines.Line2D at 0x2ad815a1700>]"
      ]
     },
     "execution_count": 11,
     "metadata": {},
     "output_type": "execute_result"
    },
    {
     "data": {
      "image/png": "[encoded data removed]",
      "text/plain": [
       "<Figure size 1000x200 with 1 Axes>"
      ]
     },
     "metadata": {},
     "output_type": "display_data"
    }
   ],
   "source": [
    "plt.rcParams[\"figure.figsize\"] = [10, 2] \n",
    "plt.plot(df_ma_r.index,df_ma_r['cumr']) "
   ]
  },
  {
   "cell_type": "code",
   "execution_count": 41,
   "id": "e268044a-e429-4d98-bd96-b97ba95e6b18",
   "metadata": {},
   "outputs": [
    {
     "data": {
      "text/plain": [
       "(array([2., 0., 3., 1., 0., 1., 0., 0., 1., 1., 0., 0., 0., 0., 0., 0., 0.,\n",
       "        0., 0., 0., 1., 0., 0., 0., 0., 0., 0., 0., 0., 1.]),\n",
       " array([-0.05302501, -0.04037371, -0.0277224 , -0.01507109, -0.00241979,\n",
       "         0.01023152,  0.02288282,  0.03553413,  0.04818543,  0.06083674,\n",
       "         0.07348804,  0.08613935,  0.09879065,  0.11144196,  0.12409327,\n",
       "         0.13674457,  0.14939588,  0.16204718,  0.17469849,  0.18734979,\n",
       "         0.2000011 ,  0.2126524 ,  0.22530371,  0.23795501,  0.25060632,\n",
       "         0.26325762,  0.27590893,  0.28856024,  0.30121154,  0.31386285,\n",
       "         0.32651415]),\n",
       " <BarContainer object of 30 artists>)"
      ]
     },
     "execution_count": 41,
     "metadata": {},
     "output_type": "execute_result"
    },
    {
     "data": {
      "image/png": "[encoded data removed]",
      "text/plain": [
       "<Figure size 1000x200 with 1 Axes>"
      ]
     },
     "metadata": {},
     "output_type": "display_data"
    }
   ],
   "source": [
    "returns=df_ma_r['r']     #获取每笔交易收益率并观察分布情况\n",
    "plt.hist(returns,bins=30) "
   ]
  },
  {
   "cell_type": "code",
   "execution_count": 43,
   "id": "40e37f16-bcdb-4e5c-b2b8-99ddb827e61c",
   "metadata": {},
   "outputs": [
    {
     "name": "stdout",
     "output_type": "stream",
     "text": [
      "使用显著水平0.05，当t>0，p_value<0.05时说明收益显著大于0, t和p_value值为:\n",
      "1.3024551519175098 0.11097878254144337 是否显著大于0: False\n"
     ]
    }
   ],
   "source": [
    "from scipy.stats import ttest_1samp\n",
    "t,p=ttest_1samp(returns,0,nan_policy=\"omit\") #检验收益是否显著大于0  忽略空缺值\n",
    "p_value=p/2                              #单边检测p/2\n",
    "print(\"使用显著水平0.05，当t>0，p_value<0.05时说明收益显著大于0, t和p_value值为:\")\n",
    "print(t , p_value, \"是否显著大于0:\",p_value<0.05)\n"
   ]
  },
  {
   "cell_type": "code",
   "execution_count": 19,
   "id": "189b4e7d-0029-46f5-9c4b-6a9117dc7d8a",
   "metadata": {},
   "outputs": [],
   "source": [
    "#测试不使用策略股票被动收益\n",
    "def pass_r(df):\n",
    "    returns = df['涨跌幅'] / 100            \n",
    "    avg_return=returns.mean()           #日平均收益                  \n",
    "    year_return=avg_return*242                #不考虑复利的年化收益率\n",
    "    total_return = (1 + returns).prod() - 1  # 每日累计收益\n",
    "    cagr = (1 + total_return) ** (242 / len(df)) - 1  # 累计收益折算年化\n",
    "    b_price,s_price = df[\"收盘\"].iloc[0], df[\"收盘\"].iloc[-1]\n",
    "    buy_hold_return = (s_price - b_price) / b_price       #这段时间买入股票持有不动的收益率\n",
    "    return  avg_return,year_return, cagr,buy_hold_return\n"
   ]
  },
  {
   "cell_type": "code",
   "execution_count": 21,
   "id": "f6f876c0-f137-4814-a0dc-91f14f4fb9d8",
   "metadata": {},
   "outputs": [
    {
     "data": {
      "text/plain": [
       "(0.002272427983539095,\n",
       " 0.5499275720164609,\n",
       " 0.6149390641428474,\n",
       " 0.6035775589484145)"
      ]
     },
     "execution_count": 21,
     "metadata": {},
     "output_type": "execute_result"
    }
   ],
   "source": [
    "pass_r(df)\n"
   ]
  },
  {
   "cell_type": "code",
   "execution_count": 57,
   "id": "9e47ad9a-a1c1-4639-b36d-2860995a6a3d",
   "metadata": {},
   "outputs": [
    {
     "data": {
      "text/plain": [
       "(array([ 1.,  0.,  0.,  0.,  1.,  1.,  0.,  1.,  4.,  3.,  3., 12., 20.,\n",
       "        40., 36., 37., 24., 19.,  8.,  8., 10.,  3.,  3.,  3.,  3.,  0.,\n",
       "         0.,  2.,  0.,  1.]),\n",
       " array([-0.1       , -0.09333333, -0.08666667, -0.08      , -0.07333333,\n",
       "        -0.06666667, -0.06      , -0.05333333, -0.04666667, -0.04      ,\n",
       "        -0.03333333, -0.02666667, -0.02      , -0.01333333, -0.00666667,\n",
       "         0.        ,  0.00666667,  0.01333333,  0.02      ,  0.02666667,\n",
       "         0.03333333,  0.04      ,  0.04666667,  0.05333333,  0.06      ,\n",
       "         0.06666667,  0.07333333,  0.08      ,  0.08666667,  0.09333333,\n",
       "         0.1       ]),\n",
       " <BarContainer object of 30 artists>)"
      ]
     },
     "execution_count": 57,
     "metadata": {},
     "output_type": "execute_result"
    },
    {
     "data": {
      "image/png": "[encoded data removed]",
      "text/plain": [
       "<Figure size 1000x200 with 1 Axes>"
      ]
     },
     "metadata": {},
     "output_type": "display_data"
    }
   ],
   "source": [
    "returns2=df['涨跌幅'] / 100   #获取每日收益率并查看其分布\n",
    "plt.hist(returns2,bins=30) "
   ]
  },
  {
   "cell_type": "code",
   "execution_count": 59,
   "id": "8fda3913-6ee2-4504-951e-524eb0709117",
   "metadata": {},
   "outputs": [
    {
     "name": "stdout",
     "output_type": "stream",
     "text": [
      "使用显著水平0.05，当t>0，p_value<0.05时说明收益显著大于0, t和p_value值为:\n",
      "1.4628532989075678 0.0724025225673038 是否显著大于0: False\n"
     ]
    }
   ],
   "source": [
    "t2,p2=ttest_1samp(returns2,0,nan_policy=\"omit\") #检验收益是否显著大于0  忽略空缺值\n",
    "p_value2=p2/2                              #单边检测p/2\n",
    "print(\"使用显著水平0.05，当t>0，p_value<0.05时说明收益显著大于0, t和p_value值为:\")\n",
    "print(t2 , p_value2, \"是否显著大于0:\",p_value2<0.05)\n"
   ]
  },
  {
   "cell_type": "code",
   "execution_count": 61,
   "id": "a885ae13-7e13-4261-bb30-873df67fc1a7",
   "metadata": {},
   "outputs": [],
   "source": [
    "from scipy.stats import kurtosis, skew, jarque_bera"
   ]
  },
  {
   "cell_type": "code",
   "execution_count": 63,
   "id": "63485bf7-2348-4078-90e7-eb24444de446",
   "metadata": {},
   "outputs": [
    {
     "data": {
      "text/plain": [
       "2.8915954090850127"
      ]
     },
     "execution_count": 63,
     "metadata": {},
     "output_type": "execute_result"
    }
   ],
   "source": [
    "kurtosis(returns2, fisher=True)"
   ]
  },
  {
   "cell_type": "code",
   "execution_count": 65,
   "id": "392110b9-061a-47ac-9b08-aadab1e00b4f",
   "metadata": {},
   "outputs": [
    {
     "data": {
      "text/plain": [
       "0.40193729183682503"
      ]
     },
     "execution_count": 65,
     "metadata": {},
     "output_type": "execute_result"
    }
   ],
   "source": [
    "skew(returns2)"
   ]
  },
  {
   "cell_type": "code",
   "execution_count": null,
   "id": "83d69009-d29a-41b5-8f01-ceaee8207a46",
   "metadata": {},
   "outputs": [],
   "source": []
  }
 ],
 "metadata": {
  "kernelspec": {
   "display_name": "Python [conda env:base] *",
   "language": "python",
   "name": "conda-base-py"
  },
  "language_info": {
   "codemirror_mode": {
    "name": "ipython",
    "version": 3
   },
   "file_extension": ".py",
   "mimetype": "text/x-python",
   "name": "python",
   "nbconvert_exporter": "python",
   "pygments_lexer": "ipython3",
   "version": "3.12.7"
  }
 },
 "nbformat": 4,
 "nbformat_minor": 5
}
