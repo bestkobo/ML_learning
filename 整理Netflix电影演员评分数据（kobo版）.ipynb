{
 "cells": [
  {
   "cell_type": "markdown",
   "metadata": {},
   "source": [
    "# 项目：整理Netflix电影演员评分数据"
   ]
  },
  {
   "cell_type": "markdown",
   "metadata": {},
   "source": [
    "## 分析目标"
   ]
  },
  {
   "cell_type": "markdown",
   "metadata": {},
   "source": [
    "此数据分析的目的是，整理不同流派影视作品，比如喜剧片、动作片、科幻片中，各演员出演作品的平均IMDB评分，从而挖掘出各个流派中的高评分作品演员。\n",
    "\n",
    "本实战项目的目的在于练习整理数据，从而得到可供下一步分析的数据。"
   ]
  },
  {
   "cell_type": "markdown",
   "metadata": {},
   "source": [
    "## 简介"
   ]
  },
  {
   "cell_type": "markdown",
   "metadata": {},
   "source": [
    "原始数据集记录了截止至2022年7月美国地区可观看的所有Netflix电视剧及电影数据。数据集包含两个数据表：`titles.csv`和`credits.csv`。\n",
    "\n",
    "`titles.csv`包含电影及电视剧相关信息，包括影视作品ID、标题、类型、描述、流派、IMDB（一个国外的在线评分网站）评分，等等。`credits.csv`包含超过7万名出现在Netflix影视作品的导演及演员信息，包括名字、影视作品ID、人物名、演职员类型（导演/演员）等。"
   ]
  },
  {
   "cell_type": "markdown",
   "metadata": {},
   "source": [
    "`titles.csv`每列的含义如下：\n",
    "- id：影视作品ID。\n",
    "- title：影视作品标题。\n",
    "- show_type：作品类型，电视节目或电影。\n",
    "- description：简短描述。\n",
    "- release_year：发布年份。\n",
    "- age_certification：适龄认证。\n",
    "- runtime：每集电视剧或电影的长度。\n",
    "- genres：流派类型列表。\n",
    "- production_countries：出品国家列表。\n",
    "- seasons：如果是电视剧，则是季数。\n",
    "- imdb_id：IMDB的ID。\n",
    "- imdb_score：IMDB的评分。\n",
    "- imdb_votes：IMDB的投票数。\n",
    "- tmdb_popularity：TMDB的流行度。\n",
    "- tmdb_score：TMDB的评分。\n",
    "\n",
    "`credits.csv`每列的含义如下：\n",
    "- person_ID：演职员ID。\n",
    "- id：参与的影视作品ID。\n",
    "- name：姓名。\n",
    "- character_name：角色姓名。\n",
    "- role：演职员类型，演员或导演。"
   ]
  },
  {
   "cell_type": "markdown",
   "metadata": {
    "jp-MarkdownHeadingCollapsed": true
   },
   "source": [
    "## 评估清理数据"
   ]
  },
  {
   "cell_type": "markdown",
   "metadata": {},
   "source": [
    "import pandas as pd\n",
    "import numpy as np"
   ]
  },
  {
   "cell_type": "markdown",
   "metadata": {},
   "source": [
    "D1\n",
    "1. 数据结构\n",
    "`genres`和`production_countries`存在多个变量需要拆分\n",
    "2. 数据类型\n",
    "`release_year`数据类型应为日期\n",
    "3. 数据缺失\n",
    "`title`,`description`,`age_certification`,`seasons`,`imdb_id`,`imdb_score`,`imdb_votes`,`tmdb_popularity`,`tmdb_score`数据缺失\n",
    "其余变量空缺值并不影响挖掘各个流派中的高IMDB评分作品演员，只评估imdb_score和genres，删除其变量空缺的观察值\n",
    "5. 数据重复\n",
    "不存在重复\n",
    "6. 数据统一性\n",
    "`genres`没有统一性问题，`production_countries`中的\"Lebanon\"和\"LB\"都是黎巴嫩，统一成\"LB\"\n",
    "7. 数据异常\n",
    "没有异常数据\n",
    "\n",
    "D2\n",
    "1. 数据结构\n",
    "没有结构问题\n",
    "2. 数据类型\n",
    "`person_id`数据类型应为字符串\n",
    "3. 数据缺失\n",
    "`character`数据缺失，但不影响挖掘各个流派中的高IMDB评分作品演员，保留空缺观察值。\n",
    "5. 数据重复\n",
    "不存在重复\n",
    "6. 数据统一性\n",
    "没有统一性问题\n",
    "7. 数据异常\n",
    "没有异常数据\n"
   ]
  },
  {
   "cell_type": "markdown",
   "metadata": {
    "jp-MarkdownHeadingCollapsed": true
   },
   "source": [
    "#### 处理titles.csv 为D1"
   ]
  },
  {
   "cell_type": "code",
   "execution_count": 9,
   "metadata": {},
   "outputs": [
    {
     "data": {
      "text/html": [
       "<div>\n",
       "<style scoped>\n",
       "    .dataframe tbody tr th:only-of-type {\n",
       "        vertical-align: middle;\n",
       "    }\n",
       "\n",
       "    .dataframe tbody tr th {\n",
       "        vertical-align: top;\n",
       "    }\n",
       "\n",
       "    .dataframe thead th {\n",
       "        text-align: right;\n",
       "    }\n",
       "</style>\n",
       "<table border=\"1\" class=\"dataframe\">\n",
       "  <thead>\n",
       "    <tr style=\"text-align: right;\">\n",
       "      <th></th>\n",
       "      <th>id</th>\n",
       "      <th>title</th>\n",
       "      <th>type</th>\n",
       "      <th>description</th>\n",
       "      <th>release_year</th>\n",
       "      <th>age_certification</th>\n",
       "      <th>runtime</th>\n",
       "      <th>genres</th>\n",
       "      <th>production_countries</th>\n",
       "      <th>seasons</th>\n",
       "      <th>imdb_id</th>\n",
       "      <th>imdb_score</th>\n",
       "      <th>imdb_votes</th>\n",
       "      <th>tmdb_popularity</th>\n",
       "      <th>tmdb_score</th>\n",
       "    </tr>\n",
       "  </thead>\n",
       "  <tbody>\n",
       "    <tr>\n",
       "      <th>1835</th>\n",
       "      <td>tm362881</td>\n",
       "      <td>Mirai</td>\n",
       "      <td>MOVIE</td>\n",
       "      <td>Unhappy after his new baby sister displaces hi...</td>\n",
       "      <td>2018</td>\n",
       "      <td>PG</td>\n",
       "      <td>94</td>\n",
       "      <td>['fantasy', 'animation', 'drama', 'family']</td>\n",
       "      <td>['JP']</td>\n",
       "      <td>NaN</td>\n",
       "      <td>tt6900448</td>\n",
       "      <td>7.0</td>\n",
       "      <td>14983.0</td>\n",
       "      <td>52.562</td>\n",
       "      <td>7.2</td>\n",
       "    </tr>\n",
       "    <tr>\n",
       "      <th>5165</th>\n",
       "      <td>tm1045741</td>\n",
       "      <td>Blue Miracle</td>\n",
       "      <td>MOVIE</td>\n",
       "      <td>To save their cash-strapped orphanage, a guard...</td>\n",
       "      <td>2021</td>\n",
       "      <td>NaN</td>\n",
       "      <td>95</td>\n",
       "      <td>['family', 'action', 'drama']</td>\n",
       "      <td>['MX', 'US']</td>\n",
       "      <td>NaN</td>\n",
       "      <td>tt7084386</td>\n",
       "      <td>6.6</td>\n",
       "      <td>6778.0</td>\n",
       "      <td>17.953</td>\n",
       "      <td>7.6</td>\n",
       "    </tr>\n",
       "    <tr>\n",
       "      <th>453</th>\n",
       "      <td>tm44530</td>\n",
       "      <td>Fashion</td>\n",
       "      <td>MOVIE</td>\n",
       "      <td>A small-town girl finally realizes her dream o...</td>\n",
       "      <td>2008</td>\n",
       "      <td>PG-13</td>\n",
       "      <td>167</td>\n",
       "      <td>['drama', 'romance']</td>\n",
       "      <td>['IN']</td>\n",
       "      <td>NaN</td>\n",
       "      <td>tt0964516</td>\n",
       "      <td>6.9</td>\n",
       "      <td>12533.0</td>\n",
       "      <td>7.048</td>\n",
       "      <td>6.3</td>\n",
       "    </tr>\n",
       "    <tr>\n",
       "      <th>3820</th>\n",
       "      <td>tm494731</td>\n",
       "      <td>Sextuplets</td>\n",
       "      <td>MOVIE</td>\n",
       "      <td>Father-to-be Alan is shocked to learn that he ...</td>\n",
       "      <td>2019</td>\n",
       "      <td>NaN</td>\n",
       "      <td>97</td>\n",
       "      <td>['comedy']</td>\n",
       "      <td>['US']</td>\n",
       "      <td>NaN</td>\n",
       "      <td>tt8976710</td>\n",
       "      <td>4.4</td>\n",
       "      <td>8528.0</td>\n",
       "      <td>27.608</td>\n",
       "      <td>6.3</td>\n",
       "    </tr>\n",
       "    <tr>\n",
       "      <th>3971</th>\n",
       "      <td>ts256297</td>\n",
       "      <td>The Devil Punisher</td>\n",
       "      <td>SHOW</td>\n",
       "      <td>A baker by day and demon fighter by night, Zho...</td>\n",
       "      <td>2020</td>\n",
       "      <td>NaN</td>\n",
       "      <td>70</td>\n",
       "      <td>['scifi', 'fantasy', 'romance']</td>\n",
       "      <td>['TW']</td>\n",
       "      <td>1.0</td>\n",
       "      <td>tt13317376</td>\n",
       "      <td>5.8</td>\n",
       "      <td>161.0</td>\n",
       "      <td>5.671</td>\n",
       "      <td>9.0</td>\n",
       "    </tr>\n",
       "  </tbody>\n",
       "</table>\n",
       "</div>"
      ],
      "text/plain": [
       "             id               title   type  \\\n",
       "1835   tm362881               Mirai  MOVIE   \n",
       "5165  tm1045741        Blue Miracle  MOVIE   \n",
       "453     tm44530             Fashion  MOVIE   \n",
       "3820   tm494731          Sextuplets  MOVIE   \n",
       "3971   ts256297  The Devil Punisher   SHOW   \n",
       "\n",
       "                                            description  release_year  \\\n",
       "1835  Unhappy after his new baby sister displaces hi...          2018   \n",
       "5165  To save their cash-strapped orphanage, a guard...          2021   \n",
       "453   A small-town girl finally realizes her dream o...          2008   \n",
       "3820  Father-to-be Alan is shocked to learn that he ...          2019   \n",
       "3971  A baker by day and demon fighter by night, Zho...          2020   \n",
       "\n",
       "     age_certification  runtime                                       genres  \\\n",
       "1835                PG       94  ['fantasy', 'animation', 'drama', 'family']   \n",
       "5165               NaN       95                ['family', 'action', 'drama']   \n",
       "453              PG-13      167                         ['drama', 'romance']   \n",
       "3820               NaN       97                                   ['comedy']   \n",
       "3971               NaN       70              ['scifi', 'fantasy', 'romance']   \n",
       "\n",
       "     production_countries  seasons     imdb_id  imdb_score  imdb_votes  \\\n",
       "1835               ['JP']      NaN   tt6900448         7.0     14983.0   \n",
       "5165         ['MX', 'US']      NaN   tt7084386         6.6      6778.0   \n",
       "453                ['IN']      NaN   tt0964516         6.9     12533.0   \n",
       "3820               ['US']      NaN   tt8976710         4.4      8528.0   \n",
       "3971               ['TW']      1.0  tt13317376         5.8       161.0   \n",
       "\n",
       "      tmdb_popularity  tmdb_score  \n",
       "1835           52.562         7.2  \n",
       "5165           17.953         7.6  \n",
       "453             7.048         6.3  \n",
       "3820           27.608         6.3  \n",
       "3971            5.671         9.0  "
      ]
     },
     "execution_count": 9,
     "metadata": {},
     "output_type": "execute_result"
    }
   ],
   "source": [
    "D1=pd.read_csv(\"titles.csv\").copy()\n",
    "D1.sample(5)"
   ]
  },
  {
   "cell_type": "markdown",
   "metadata": {
    "jp-MarkdownHeadingCollapsed": true
   },
   "source": [
    "#### 数据结构"
   ]
  },
  {
   "cell_type": "code",
   "execution_count": 12,
   "metadata": {},
   "outputs": [
    {
     "data": {
      "text/plain": [
       "\"['drama', 'crime']\""
      ]
     },
     "execution_count": 12,
     "metadata": {},
     "output_type": "execute_result"
    }
   ],
   "source": [
    "D1[\"genres\"][1]"
   ]
  },
  {
   "cell_type": "code",
   "execution_count": 14,
   "metadata": {},
   "outputs": [
    {
     "data": {
      "text/plain": [
       "['drama', 'crime']"
      ]
     },
     "execution_count": 14,
     "metadata": {},
     "output_type": "execute_result"
    }
   ],
   "source": [
    "D1[\"genres\"]=D1[\"genres\"].apply(eval)\n",
    "D1[\"genres\"][1]"
   ]
  },
  {
   "cell_type": "code",
   "execution_count": 16,
   "metadata": {},
   "outputs": [],
   "source": [
    "D1=D1.explode(\"genres\")"
   ]
  },
  {
   "cell_type": "code",
   "execution_count": 18,
   "metadata": {},
   "outputs": [
    {
     "data": {
      "text/plain": [
       "1    ['US']\n",
       "1    ['US']\n",
       "Name: production_countries, dtype: object"
      ]
     },
     "execution_count": 18,
     "metadata": {},
     "output_type": "execute_result"
    }
   ],
   "source": [
    "D1[\"production_countries\"][1]"
   ]
  },
  {
   "cell_type": "code",
   "execution_count": 20,
   "metadata": {},
   "outputs": [],
   "source": [
    "D1[\"production_countries\"]=D1[\"production_countries\"].apply(eval)"
   ]
  },
  {
   "cell_type": "code",
   "execution_count": 22,
   "metadata": {},
   "outputs": [],
   "source": [
    "D1=D1.explode(\"production_countries\")"
   ]
  },
  {
   "cell_type": "code",
   "execution_count": 24,
   "metadata": {},
   "outputs": [
    {
     "data": {
      "text/plain": [
       "genres\n",
       "drama            3517\n",
       "comedy           2538\n",
       "thriller         1505\n",
       "action           1394\n",
       "romance          1098\n",
       "crime            1093\n",
       "documentation    1085\n",
       "animation         816\n",
       "family            803\n",
       "fantasy           738\n",
       "european          699\n",
       "scifi             676\n",
       "horror            451\n",
       "history           336\n",
       "music             289\n",
       "reality           241\n",
       "war               232\n",
       "sport             188\n",
       "western            56\n",
       "Name: count, dtype: int64"
      ]
     },
     "execution_count": 24,
     "metadata": {},
     "output_type": "execute_result"
    }
   ],
   "source": [
    "D1[\"genres\"].value_counts()"
   ]
  },
  {
   "cell_type": "code",
   "execution_count": 26,
   "metadata": {},
   "outputs": [
    {
     "data": {
      "text/html": [
       "<div>\n",
       "<style scoped>\n",
       "    .dataframe tbody tr th:only-of-type {\n",
       "        vertical-align: middle;\n",
       "    }\n",
       "\n",
       "    .dataframe tbody tr th {\n",
       "        vertical-align: top;\n",
       "    }\n",
       "\n",
       "    .dataframe thead th {\n",
       "        text-align: right;\n",
       "    }\n",
       "</style>\n",
       "<table border=\"1\" class=\"dataframe\">\n",
       "  <thead>\n",
       "    <tr style=\"text-align: right;\">\n",
       "      <th></th>\n",
       "      <th>id</th>\n",
       "      <th>title</th>\n",
       "      <th>type</th>\n",
       "      <th>description</th>\n",
       "      <th>release_year</th>\n",
       "      <th>age_certification</th>\n",
       "      <th>runtime</th>\n",
       "      <th>genres</th>\n",
       "      <th>production_countries</th>\n",
       "      <th>seasons</th>\n",
       "      <th>imdb_id</th>\n",
       "      <th>imdb_score</th>\n",
       "      <th>imdb_votes</th>\n",
       "      <th>tmdb_popularity</th>\n",
       "      <th>tmdb_score</th>\n",
       "    </tr>\n",
       "  </thead>\n",
       "  <tbody>\n",
       "    <tr>\n",
       "      <th>1987</th>\n",
       "      <td>ts56201</td>\n",
       "      <td>Cloudy with a Chance of Meatballs</td>\n",
       "      <td>SHOW</td>\n",
       "      <td>The series is a prequel, featuring the high sc...</td>\n",
       "      <td>2017</td>\n",
       "      <td>TV-Y7</td>\n",
       "      <td>11</td>\n",
       "      <td>scifi</td>\n",
       "      <td>CA</td>\n",
       "      <td>2.0</td>\n",
       "      <td>tt7584168</td>\n",
       "      <td>3.4</td>\n",
       "      <td>750.0</td>\n",
       "      <td>8.750</td>\n",
       "      <td>5.6</td>\n",
       "    </tr>\n",
       "    <tr>\n",
       "      <th>928</th>\n",
       "      <td>tm71148</td>\n",
       "      <td>Thanks for Sharing</td>\n",
       "      <td>MOVIE</td>\n",
       "      <td>A romantic comedy that brings together three d...</td>\n",
       "      <td>2013</td>\n",
       "      <td>R</td>\n",
       "      <td>112</td>\n",
       "      <td>drama</td>\n",
       "      <td>US</td>\n",
       "      <td>NaN</td>\n",
       "      <td>tt1932718</td>\n",
       "      <td>6.4</td>\n",
       "      <td>28396.0</td>\n",
       "      <td>9.986</td>\n",
       "      <td>5.9</td>\n",
       "    </tr>\n",
       "    <tr>\n",
       "      <th>4095</th>\n",
       "      <td>tm817087</td>\n",
       "      <td>#AnneFrank. Parallel Stories</td>\n",
       "      <td>MOVIE</td>\n",
       "      <td>One single Anne Frank moves us more than the c...</td>\n",
       "      <td>2019</td>\n",
       "      <td>NaN</td>\n",
       "      <td>92</td>\n",
       "      <td>history</td>\n",
       "      <td>IT</td>\n",
       "      <td>NaN</td>\n",
       "      <td>tt9850370</td>\n",
       "      <td>6.5</td>\n",
       "      <td>1548.0</td>\n",
       "      <td>8.190</td>\n",
       "      <td>7.1</td>\n",
       "    </tr>\n",
       "    <tr>\n",
       "      <th>2169</th>\n",
       "      <td>tm427293</td>\n",
       "      <td>Solo</td>\n",
       "      <td>MOVIE</td>\n",
       "      <td>After falling off a cliff and suffering substa...</td>\n",
       "      <td>2018</td>\n",
       "      <td>NaN</td>\n",
       "      <td>100</td>\n",
       "      <td>drama</td>\n",
       "      <td>ES</td>\n",
       "      <td>NaN</td>\n",
       "      <td>tt6699860</td>\n",
       "      <td>5.0</td>\n",
       "      <td>2779.0</td>\n",
       "      <td>6.956</td>\n",
       "      <td>5.5</td>\n",
       "    </tr>\n",
       "    <tr>\n",
       "      <th>2473</th>\n",
       "      <td>ts68146</td>\n",
       "      <td>Myths &amp; Monsters</td>\n",
       "      <td>SHOW</td>\n",
       "      <td>This documentary series tells the stories that...</td>\n",
       "      <td>2017</td>\n",
       "      <td>TV-PG</td>\n",
       "      <td>43</td>\n",
       "      <td>european</td>\n",
       "      <td>GB</td>\n",
       "      <td>1.0</td>\n",
       "      <td>tt7531644</td>\n",
       "      <td>7.7</td>\n",
       "      <td>841.0</td>\n",
       "      <td>1.804</td>\n",
       "      <td>7.4</td>\n",
       "    </tr>\n",
       "  </tbody>\n",
       "</table>\n",
       "</div>"
      ],
      "text/plain": [
       "            id                              title   type  \\\n",
       "1987   ts56201  Cloudy with a Chance of Meatballs   SHOW   \n",
       "928    tm71148                 Thanks for Sharing  MOVIE   \n",
       "4095  tm817087       #AnneFrank. Parallel Stories  MOVIE   \n",
       "2169  tm427293                               Solo  MOVIE   \n",
       "2473   ts68146                   Myths & Monsters   SHOW   \n",
       "\n",
       "                                            description  release_year  \\\n",
       "1987  The series is a prequel, featuring the high sc...          2017   \n",
       "928   A romantic comedy that brings together three d...          2013   \n",
       "4095  One single Anne Frank moves us more than the c...          2019   \n",
       "2169  After falling off a cliff and suffering substa...          2018   \n",
       "2473  This documentary series tells the stories that...          2017   \n",
       "\n",
       "     age_certification  runtime    genres production_countries  seasons  \\\n",
       "1987             TV-Y7       11     scifi                   CA      2.0   \n",
       "928                  R      112     drama                   US      NaN   \n",
       "4095               NaN       92   history                   IT      NaN   \n",
       "2169               NaN      100     drama                   ES      NaN   \n",
       "2473             TV-PG       43  european                   GB      1.0   \n",
       "\n",
       "        imdb_id  imdb_score  imdb_votes  tmdb_popularity  tmdb_score  \n",
       "1987  tt7584168         3.4       750.0            8.750         5.6  \n",
       "928   tt1932718         6.4     28396.0            9.986         5.9  \n",
       "4095  tt9850370         6.5      1548.0            8.190         7.1  \n",
       "2169  tt6699860         5.0      2779.0            6.956         5.5  \n",
       "2473  tt7531644         7.7       841.0            1.804         7.4  "
      ]
     },
     "execution_count": 26,
     "metadata": {},
     "output_type": "execute_result"
    }
   ],
   "source": [
    "D1.sample(5)"
   ]
  },
  {
   "cell_type": "markdown",
   "metadata": {
    "jp-MarkdownHeadingCollapsed": true
   },
   "source": [
    "#### 数据类型"
   ]
  },
  {
   "cell_type": "code",
   "execution_count": 29,
   "metadata": {},
   "outputs": [
    {
     "name": "stdout",
     "output_type": "stream",
     "text": [
      "<class 'pandas.core.frame.DataFrame'>\n",
      "Index: 17818 entries, 0 to 5849\n",
      "Data columns (total 15 columns):\n",
      " #   Column                Non-Null Count  Dtype  \n",
      "---  ------                --------------  -----  \n",
      " 0   id                    17818 non-null  object \n",
      " 1   title                 17817 non-null  object \n",
      " 2   type                  17818 non-null  object \n",
      " 3   description           17790 non-null  object \n",
      " 4   release_year          17818 non-null  int64  \n",
      " 5   age_certification     10889 non-null  object \n",
      " 6   runtime               17818 non-null  int64  \n",
      " 7   genres                17755 non-null  object \n",
      " 8   production_countries  17439 non-null  object \n",
      " 9   seasons               6224 non-null   float64\n",
      " 10  imdb_id               17116 non-null  object \n",
      " 11  imdb_score            16976 non-null  float64\n",
      " 12  imdb_votes            16945 non-null  float64\n",
      " 13  tmdb_popularity       17663 non-null  float64\n",
      " 14  tmdb_score            17241 non-null  float64\n",
      "dtypes: float64(5), int64(2), object(8)\n",
      "memory usage: 2.2+ MB\n"
     ]
    }
   ],
   "source": [
    "D1.info()"
   ]
  },
  {
   "cell_type": "code",
   "execution_count": 31,
   "metadata": {},
   "outputs": [],
   "source": [
    "D1[\"release_year\"]=pd.to_datetime(D1[\"release_year\"],format='%Y')"
   ]
  },
  {
   "cell_type": "code",
   "execution_count": 33,
   "metadata": {},
   "outputs": [
    {
     "name": "stdout",
     "output_type": "stream",
     "text": [
      "<class 'pandas.core.frame.DataFrame'>\n",
      "Index: 17818 entries, 0 to 5849\n",
      "Data columns (total 15 columns):\n",
      " #   Column                Non-Null Count  Dtype         \n",
      "---  ------                --------------  -----         \n",
      " 0   id                    17818 non-null  object        \n",
      " 1   title                 17817 non-null  object        \n",
      " 2   type                  17818 non-null  object        \n",
      " 3   description           17790 non-null  object        \n",
      " 4   release_year          17818 non-null  datetime64[ns]\n",
      " 5   age_certification     10889 non-null  object        \n",
      " 6   runtime               17818 non-null  int64         \n",
      " 7   genres                17755 non-null  object        \n",
      " 8   production_countries  17439 non-null  object        \n",
      " 9   seasons               6224 non-null   float64       \n",
      " 10  imdb_id               17116 non-null  object        \n",
      " 11  imdb_score            16976 non-null  float64       \n",
      " 12  imdb_votes            16945 non-null  float64       \n",
      " 13  tmdb_popularity       17663 non-null  float64       \n",
      " 14  tmdb_score            17241 non-null  float64       \n",
      "dtypes: datetime64[ns](1), float64(5), int64(1), object(8)\n",
      "memory usage: 2.2+ MB\n"
     ]
    }
   ],
   "source": [
    "D1.info()"
   ]
  },
  {
   "cell_type": "markdown",
   "metadata": {
    "jp-MarkdownHeadingCollapsed": true
   },
   "source": [
    "#### 数据缺失"
   ]
  },
  {
   "cell_type": "code",
   "execution_count": 36,
   "metadata": {},
   "outputs": [],
   "source": [
    "D1=D1.dropna(subset=\"genres\")"
   ]
  },
  {
   "cell_type": "code",
   "execution_count": 38,
   "metadata": {},
   "outputs": [
    {
     "data": {
      "text/plain": [
       "0"
      ]
     },
     "execution_count": 38,
     "metadata": {},
     "output_type": "execute_result"
    }
   ],
   "source": [
    "D1[\"genres\"].isnull().sum()"
   ]
  },
  {
   "cell_type": "code",
   "execution_count": 40,
   "metadata": {},
   "outputs": [],
   "source": [
    "D1=D1.dropna(subset=\"imdb_score\")"
   ]
  },
  {
   "cell_type": "code",
   "execution_count": 42,
   "metadata": {},
   "outputs": [
    {
     "data": {
      "text/plain": [
       "0"
      ]
     },
     "execution_count": 42,
     "metadata": {},
     "output_type": "execute_result"
    }
   ],
   "source": [
    "D1[\"imdb_score\"].isnull().sum()"
   ]
  },
  {
   "cell_type": "markdown",
   "metadata": {
    "jp-MarkdownHeadingCollapsed": true
   },
   "source": [
    "#### 数据重复"
   ]
  },
  {
   "cell_type": "code",
   "execution_count": 45,
   "metadata": {},
   "outputs": [
    {
     "data": {
      "text/plain": [
       "0"
      ]
     },
     "execution_count": 45,
     "metadata": {},
     "output_type": "execute_result"
    }
   ],
   "source": [
    "D1.duplicated().sum()"
   ]
  },
  {
   "cell_type": "markdown",
   "metadata": {
    "jp-MarkdownHeadingCollapsed": true
   },
   "source": [
    "#### 数据异常"
   ]
  },
  {
   "cell_type": "code",
   "execution_count": 48,
   "metadata": {},
   "outputs": [
    {
     "data": {
      "text/html": [
       "<div>\n",
       "<style scoped>\n",
       "    .dataframe tbody tr th:only-of-type {\n",
       "        vertical-align: middle;\n",
       "    }\n",
       "\n",
       "    .dataframe tbody tr th {\n",
       "        vertical-align: top;\n",
       "    }\n",
       "\n",
       "    .dataframe thead th {\n",
       "        text-align: right;\n",
       "    }\n",
       "</style>\n",
       "<table border=\"1\" class=\"dataframe\">\n",
       "  <thead>\n",
       "    <tr style=\"text-align: right;\">\n",
       "      <th></th>\n",
       "      <th>release_year</th>\n",
       "      <th>runtime</th>\n",
       "      <th>seasons</th>\n",
       "      <th>imdb_score</th>\n",
       "      <th>imdb_votes</th>\n",
       "      <th>tmdb_popularity</th>\n",
       "      <th>tmdb_score</th>\n",
       "    </tr>\n",
       "  </thead>\n",
       "  <tbody>\n",
       "    <tr>\n",
       "      <th>count</th>\n",
       "      <td>16970</td>\n",
       "      <td>16970.000000</td>\n",
       "      <td>5954.000000</td>\n",
       "      <td>16970.000000</td>\n",
       "      <td>1.694100e+04</td>\n",
       "      <td>16842.000000</td>\n",
       "      <td>16515.000000</td>\n",
       "    </tr>\n",
       "    <tr>\n",
       "      <th>mean</th>\n",
       "      <td>2015-11-14 22:42:51.974072064</td>\n",
       "      <td>80.912552</td>\n",
       "      <td>2.455492</td>\n",
       "      <td>6.514207</td>\n",
       "      <td>3.281655e+04</td>\n",
       "      <td>29.396307</td>\n",
       "      <td>6.846933</td>\n",
       "    </tr>\n",
       "    <tr>\n",
       "      <th>min</th>\n",
       "      <td>1954-01-01 00:00:00</td>\n",
       "      <td>0.000000</td>\n",
       "      <td>1.000000</td>\n",
       "      <td>1.500000</td>\n",
       "      <td>5.000000e+00</td>\n",
       "      <td>0.600000</td>\n",
       "      <td>1.000000</td>\n",
       "    </tr>\n",
       "    <tr>\n",
       "      <th>25%</th>\n",
       "      <td>2015-01-01 00:00:00</td>\n",
       "      <td>45.000000</td>\n",
       "      <td>1.000000</td>\n",
       "      <td>5.800000</td>\n",
       "      <td>7.800000e+02</td>\n",
       "      <td>4.070000</td>\n",
       "      <td>6.200000</td>\n",
       "    </tr>\n",
       "    <tr>\n",
       "      <th>50%</th>\n",
       "      <td>2018-01-01 00:00:00</td>\n",
       "      <td>90.000000</td>\n",
       "      <td>2.000000</td>\n",
       "      <td>6.600000</td>\n",
       "      <td>3.508000e+03</td>\n",
       "      <td>10.195000</td>\n",
       "      <td>6.900000</td>\n",
       "    </tr>\n",
       "    <tr>\n",
       "      <th>75%</th>\n",
       "      <td>2020-01-01 00:00:00</td>\n",
       "      <td>107.000000</td>\n",
       "      <td>3.000000</td>\n",
       "      <td>7.300000</td>\n",
       "      <td>1.697800e+04</td>\n",
       "      <td>23.639000</td>\n",
       "      <td>7.500000</td>\n",
       "    </tr>\n",
       "    <tr>\n",
       "      <th>max</th>\n",
       "      <td>2022-01-01 00:00:00</td>\n",
       "      <td>225.000000</td>\n",
       "      <td>42.000000</td>\n",
       "      <td>9.500000</td>\n",
       "      <td>2.294231e+06</td>\n",
       "      <td>2274.044000</td>\n",
       "      <td>10.000000</td>\n",
       "    </tr>\n",
       "    <tr>\n",
       "      <th>std</th>\n",
       "      <td>NaN</td>\n",
       "      <td>39.596172</td>\n",
       "      <td>2.869428</td>\n",
       "      <td>1.131095</td>\n",
       "      <td>1.141492e+05</td>\n",
       "      <td>93.178235</td>\n",
       "      <td>1.078831</td>\n",
       "    </tr>\n",
       "  </tbody>\n",
       "</table>\n",
       "</div>"
      ],
      "text/plain": [
       "                        release_year       runtime      seasons    imdb_score  \\\n",
       "count                          16970  16970.000000  5954.000000  16970.000000   \n",
       "mean   2015-11-14 22:42:51.974072064     80.912552     2.455492      6.514207   \n",
       "min              1954-01-01 00:00:00      0.000000     1.000000      1.500000   \n",
       "25%              2015-01-01 00:00:00     45.000000     1.000000      5.800000   \n",
       "50%              2018-01-01 00:00:00     90.000000     2.000000      6.600000   \n",
       "75%              2020-01-01 00:00:00    107.000000     3.000000      7.300000   \n",
       "max              2022-01-01 00:00:00    225.000000    42.000000      9.500000   \n",
       "std                              NaN     39.596172     2.869428      1.131095   \n",
       "\n",
       "         imdb_votes  tmdb_popularity    tmdb_score  \n",
       "count  1.694100e+04     16842.000000  16515.000000  \n",
       "mean   3.281655e+04        29.396307      6.846933  \n",
       "min    5.000000e+00         0.600000      1.000000  \n",
       "25%    7.800000e+02         4.070000      6.200000  \n",
       "50%    3.508000e+03        10.195000      6.900000  \n",
       "75%    1.697800e+04        23.639000      7.500000  \n",
       "max    2.294231e+06      2274.044000     10.000000  \n",
       "std    1.141492e+05        93.178235      1.078831  "
      ]
     },
     "execution_count": 48,
     "metadata": {},
     "output_type": "execute_result"
    }
   ],
   "source": [
    "D1.describe()"
   ]
  },
  {
   "cell_type": "markdown",
   "metadata": {
    "jp-MarkdownHeadingCollapsed": true
   },
   "source": [
    "#### 数据统一性"
   ]
  },
  {
   "cell_type": "code",
   "execution_count": 51,
   "metadata": {},
   "outputs": [
    {
     "data": {
      "text/plain": [
       "genres\n",
       "drama            3357\n",
       "comedy           2419\n",
       "thriller         1446\n",
       "action           1339\n",
       "romance          1080\n",
       "crime            1066\n",
       "documentation     981\n",
       "family            769\n",
       "animation         732\n",
       "fantasy           727\n",
       "european          679\n",
       "scifi             647\n",
       "horror            438\n",
       "history           336\n",
       "music             266\n",
       "reality           226\n",
       "war               221\n",
       "sport             188\n",
       "western            53\n",
       "Name: count, dtype: int64"
      ]
     },
     "execution_count": 51,
     "metadata": {},
     "output_type": "execute_result"
    }
   ],
   "source": [
    "D1[\"genres\"].value_counts()"
   ]
  },
  {
   "cell_type": "code",
   "execution_count": 53,
   "metadata": {},
   "outputs": [
    {
     "data": {
      "text/plain": [
       "production_countries\n",
       "US    5648\n",
       "IN    1610\n",
       "GB    1068\n",
       "JP    1046\n",
       "FR     720\n",
       "      ... \n",
       "GT       1\n",
       "CU       1\n",
       "LK       1\n",
       "NP       1\n",
       "FO       1\n",
       "Name: count, Length: 108, dtype: int64"
      ]
     },
     "execution_count": 53,
     "metadata": {},
     "output_type": "execute_result"
    }
   ],
   "source": [
    "D1[\"production_countries\"].value_counts()"
   ]
  },
  {
   "cell_type": "markdown",
   "metadata": {},
   "source": [
    "由于value_counts执行结果中有太多值，Pandas只会默认显示开头和结尾的一些值。要完整展示结果，可以把display.max_rows设置为None，即取消展示行数上限。\n",
    "\n",
    "但因为我们只是在当前调用value_counts时才需要看完整结果，所以可以结合option_context，只更改临时上限。  \n",
    "  \n",
    "with pd.option_context('display.max_rows', None):\n",
    "  \n",
    "    print(df['column_name'].value_counts())"
   ]
  },
  {
   "cell_type": "code",
   "execution_count": 62,
   "metadata": {},
   "outputs": [],
   "source": [
    "D1['production_countries']=D1['production_countries'].replace({\"Lebanon\":\"LB\"}) "
   ]
  },
  {
   "cell_type": "code",
   "execution_count": 64,
   "metadata": {},
   "outputs": [
    {
     "name": "stdout",
     "output_type": "stream",
     "text": [
      "production_countries\n",
      "US    5648\n",
      "IN    1610\n",
      "GB    1068\n",
      "JP    1046\n",
      "FR     720\n",
      "KR     637\n",
      "ES     637\n",
      "CA     608\n",
      "DE     383\n",
      "CN     295\n",
      "MX     264\n",
      "IT     224\n",
      "BR     221\n",
      "AU     217\n",
      "TR     195\n",
      "PH     192\n",
      "AR     150\n",
      "ID     149\n",
      "BE     148\n",
      "TW     133\n",
      "NG     131\n",
      "PL     126\n",
      "ZA     103\n",
      "HK     102\n",
      "NL     102\n",
      "CO      94\n",
      "EG      93\n",
      "DK      89\n",
      "TH      87\n",
      "SE      81\n",
      "LB      71\n",
      "NO      68\n",
      "AE      52\n",
      "IE      49\n",
      "SG      47\n",
      "XX      43\n",
      "IL      42\n",
      "RU      41\n",
      "CL      35\n",
      "CH      33\n",
      "PS      32\n",
      "BG      31\n",
      "MY      30\n",
      "AT      28\n",
      "SA      28\n",
      "IS      28\n",
      "LU      27\n",
      "NZ      27\n",
      "PE      26\n",
      "RO      25\n",
      "QA      24\n",
      "CZ      22\n",
      "JO      19\n",
      "FI      18\n",
      "HU      18\n",
      "UY      15\n",
      "MA      15\n",
      "PT      14\n",
      "KW      10\n",
      "KH      10\n",
      "PK       9\n",
      "PR       9\n",
      "UA       8\n",
      "MT       8\n",
      "VN       8\n",
      "LT       7\n",
      "IR       7\n",
      "CD       7\n",
      "SU       7\n",
      "TN       7\n",
      "SN       6\n",
      "AL       6\n",
      "KE       6\n",
      "GH       6\n",
      "IQ       5\n",
      "MU       5\n",
      "CY       5\n",
      "KN       4\n",
      "GR       4\n",
      "IO       4\n",
      "SY       4\n",
      "TZ       4\n",
      "MC       4\n",
      "GL       3\n",
      "CM       3\n",
      "AO       3\n",
      "BS       3\n",
      "HR       3\n",
      "BD       3\n",
      "PY       3\n",
      "DZ       3\n",
      "KG       2\n",
      "BT       2\n",
      "BF       2\n",
      "MW       2\n",
      "RS       2\n",
      "VE       2\n",
      "ZW       2\n",
      "VA       2\n",
      "BY       2\n",
      "NP       1\n",
      "GE       1\n",
      "AF       1\n",
      "LK       1\n",
      "GT       1\n",
      "CU       1\n",
      "FO       1\n",
      "Name: count, dtype: int64\n"
     ]
    }
   ],
   "source": [
    "with pd.option_context('display.max_rows', None):\n",
    "    print(D1['production_countries'].value_counts())"
   ]
  },
  {
   "cell_type": "markdown",
   "metadata": {
    "jp-MarkdownHeadingCollapsed": true
   },
   "source": [
    "#### 保存D1为titles_cleaned.csv"
   ]
  },
  {
   "cell_type": "code",
   "execution_count": 68,
   "metadata": {},
   "outputs": [],
   "source": [
    "D1.to_csv(\"titles_cleaned.csv\")"
   ]
  },
  {
   "cell_type": "code",
   "execution_count": 70,
   "metadata": {},
   "outputs": [
    {
     "name": "stdout",
     "output_type": "stream",
     "text": [
      "<class 'pandas.core.frame.DataFrame'>\n",
      "Index: 16970 entries, 1 to 5849\n",
      "Data columns (total 15 columns):\n",
      " #   Column                Non-Null Count  Dtype         \n",
      "---  ------                --------------  -----         \n",
      " 0   id                    16970 non-null  object        \n",
      " 1   title                 16970 non-null  object        \n",
      " 2   type                  16970 non-null  object        \n",
      " 3   description           16965 non-null  object        \n",
      " 4   release_year          16970 non-null  datetime64[ns]\n",
      " 5   age_certification     10506 non-null  object        \n",
      " 6   runtime               16970 non-null  int64         \n",
      " 7   genres                16970 non-null  object        \n",
      " 8   production_countries  16670 non-null  object        \n",
      " 9   seasons               5954 non-null   float64       \n",
      " 10  imdb_id               16970 non-null  object        \n",
      " 11  imdb_score            16970 non-null  float64       \n",
      " 12  imdb_votes            16941 non-null  float64       \n",
      " 13  tmdb_popularity       16842 non-null  float64       \n",
      " 14  tmdb_score            16515 non-null  float64       \n",
      "dtypes: datetime64[ns](1), float64(5), int64(1), object(8)\n",
      "memory usage: 2.1+ MB\n"
     ]
    }
   ],
   "source": [
    "D1.info()"
   ]
  },
  {
   "cell_type": "markdown",
   "metadata": {
    "jp-MarkdownHeadingCollapsed": true
   },
   "source": [
    "#### 处理credits.csv 为D2"
   ]
  },
  {
   "cell_type": "code",
   "execution_count": 81,
   "metadata": {},
   "outputs": [
    {
     "data": {
      "text/html": [
       "<div>\n",
       "<style scoped>\n",
       "    .dataframe tbody tr th:only-of-type {\n",
       "        vertical-align: middle;\n",
       "    }\n",
       "\n",
       "    .dataframe tbody tr th {\n",
       "        vertical-align: top;\n",
       "    }\n",
       "\n",
       "    .dataframe thead th {\n",
       "        text-align: right;\n",
       "    }\n",
       "</style>\n",
       "<table border=\"1\" class=\"dataframe\">\n",
       "  <thead>\n",
       "    <tr style=\"text-align: right;\">\n",
       "      <th></th>\n",
       "      <th>person_id</th>\n",
       "      <th>id</th>\n",
       "      <th>name</th>\n",
       "      <th>character</th>\n",
       "      <th>role</th>\n",
       "    </tr>\n",
       "  </thead>\n",
       "  <tbody>\n",
       "    <tr>\n",
       "      <th>70349</th>\n",
       "      <td>190808</td>\n",
       "      <td>ts317078</td>\n",
       "      <td>Yusuke Santamaria</td>\n",
       "      <td>Shinjiro Toyoda</td>\n",
       "      <td>ACTOR</td>\n",
       "    </tr>\n",
       "    <tr>\n",
       "      <th>32456</th>\n",
       "      <td>1155989</td>\n",
       "      <td>ts83906</td>\n",
       "      <td>Mark Towle</td>\n",
       "      <td>NaN</td>\n",
       "      <td>ACTOR</td>\n",
       "    </tr>\n",
       "    <tr>\n",
       "      <th>64841</th>\n",
       "      <td>1341394</td>\n",
       "      <td>tm1221677</td>\n",
       "      <td>Flossie McKnight</td>\n",
       "      <td>Rhoda</td>\n",
       "      <td>ACTOR</td>\n",
       "    </tr>\n",
       "    <tr>\n",
       "      <th>65117</th>\n",
       "      <td>2143453</td>\n",
       "      <td>tm979026</td>\n",
       "      <td>Adriel Flete</td>\n",
       "      <td>HS West Side Dancer #3</td>\n",
       "      <td>ACTOR</td>\n",
       "    </tr>\n",
       "    <tr>\n",
       "      <th>26557</th>\n",
       "      <td>726992</td>\n",
       "      <td>ts54117</td>\n",
       "      <td>Ciara Alexys</td>\n",
       "      <td>Luna Petunia (voice)</td>\n",
       "      <td>ACTOR</td>\n",
       "    </tr>\n",
       "    <tr>\n",
       "      <th>71149</th>\n",
       "      <td>21539</td>\n",
       "      <td>tm1134006</td>\n",
       "      <td>Meghan Markle</td>\n",
       "      <td>Self (archive footage)</td>\n",
       "      <td>ACTOR</td>\n",
       "    </tr>\n",
       "    <tr>\n",
       "      <th>70003</th>\n",
       "      <td>1043502</td>\n",
       "      <td>ts311791</td>\n",
       "      <td>Rob Sixsmith</td>\n",
       "      <td>NaN</td>\n",
       "      <td>DIRECTOR</td>\n",
       "    </tr>\n",
       "    <tr>\n",
       "      <th>21841</th>\n",
       "      <td>9141</td>\n",
       "      <td>tm134791</td>\n",
       "      <td>Renee Olstead</td>\n",
       "      <td>Jess Felton</td>\n",
       "      <td>ACTOR</td>\n",
       "    </tr>\n",
       "    <tr>\n",
       "      <th>41636</th>\n",
       "      <td>820913</td>\n",
       "      <td>tm459527</td>\n",
       "      <td>Afra Saraçoğlu</td>\n",
       "      <td>Ada</td>\n",
       "      <td>ACTOR</td>\n",
       "    </tr>\n",
       "    <tr>\n",
       "      <th>70002</th>\n",
       "      <td>253158</td>\n",
       "      <td>ts352579</td>\n",
       "      <td>Deniz Yorulmazer</td>\n",
       "      <td>NaN</td>\n",
       "      <td>DIRECTOR</td>\n",
       "    </tr>\n",
       "  </tbody>\n",
       "</table>\n",
       "</div>"
      ],
      "text/plain": [
       "       person_id         id               name               character  \\\n",
       "70349     190808   ts317078  Yusuke Santamaria         Shinjiro Toyoda   \n",
       "32456    1155989    ts83906         Mark Towle                     NaN   \n",
       "64841    1341394  tm1221677   Flossie McKnight                   Rhoda   \n",
       "65117    2143453   tm979026       Adriel Flete  HS West Side Dancer #3   \n",
       "26557     726992    ts54117       Ciara Alexys    Luna Petunia (voice)   \n",
       "71149      21539  tm1134006      Meghan Markle  Self (archive footage)   \n",
       "70003    1043502   ts311791       Rob Sixsmith                     NaN   \n",
       "21841       9141   tm134791      Renee Olstead             Jess Felton   \n",
       "41636     820913   tm459527     Afra Saraçoğlu                     Ada   \n",
       "70002     253158   ts352579   Deniz Yorulmazer                     NaN   \n",
       "\n",
       "           role  \n",
       "70349     ACTOR  \n",
       "32456     ACTOR  \n",
       "64841     ACTOR  \n",
       "65117     ACTOR  \n",
       "26557     ACTOR  \n",
       "71149     ACTOR  \n",
       "70003  DIRECTOR  \n",
       "21841     ACTOR  \n",
       "41636     ACTOR  \n",
       "70002  DIRECTOR  "
      ]
     },
     "execution_count": 81,
     "metadata": {},
     "output_type": "execute_result"
    }
   ],
   "source": [
    "D2=pd.read_csv(\"credits.csv\").copy()\n",
    "D2.sample(10)"
   ]
  },
  {
   "cell_type": "markdown",
   "metadata": {
    "jp-MarkdownHeadingCollapsed": true
   },
   "source": [
    "#### 数据类型"
   ]
  },
  {
   "cell_type": "code",
   "execution_count": 88,
   "metadata": {},
   "outputs": [],
   "source": [
    "D2[\"person_id\"]=D2[\"person_id\"].astype(\"str\")  "
   ]
  },
  {
   "cell_type": "code",
   "execution_count": 90,
   "metadata": {},
   "outputs": [
    {
     "name": "stdout",
     "output_type": "stream",
     "text": [
      "<class 'pandas.core.frame.DataFrame'>\n",
      "RangeIndex: 77801 entries, 0 to 77800\n",
      "Data columns (total 5 columns):\n",
      " #   Column     Non-Null Count  Dtype \n",
      "---  ------     --------------  ----- \n",
      " 0   person_id  77801 non-null  object\n",
      " 1   id         77801 non-null  object\n",
      " 2   name       77801 non-null  object\n",
      " 3   character  68029 non-null  object\n",
      " 4   role       77801 non-null  object\n",
      "dtypes: object(5)\n",
      "memory usage: 3.0+ MB\n"
     ]
    }
   ],
   "source": [
    "D2.info()"
   ]
  },
  {
   "cell_type": "markdown",
   "metadata": {
    "jp-MarkdownHeadingCollapsed": true
   },
   "source": [
    "#### 数据重复"
   ]
  },
  {
   "cell_type": "code",
   "execution_count": 94,
   "metadata": {},
   "outputs": [
    {
     "data": {
      "text/plain": [
       "0"
      ]
     },
     "execution_count": 94,
     "metadata": {},
     "output_type": "execute_result"
    }
   ],
   "source": [
    "D2.duplicated().sum()"
   ]
  },
  {
   "cell_type": "code",
   "execution_count": 98,
   "metadata": {},
   "outputs": [
    {
     "data": {
      "text/html": [
       "<div>\n",
       "<style scoped>\n",
       "    .dataframe tbody tr th:only-of-type {\n",
       "        vertical-align: middle;\n",
       "    }\n",
       "\n",
       "    .dataframe tbody tr th {\n",
       "        vertical-align: top;\n",
       "    }\n",
       "\n",
       "    .dataframe thead th {\n",
       "        text-align: right;\n",
       "    }\n",
       "</style>\n",
       "<table border=\"1\" class=\"dataframe\">\n",
       "  <thead>\n",
       "    <tr style=\"text-align: right;\">\n",
       "      <th></th>\n",
       "      <th>person_id</th>\n",
       "      <th>id</th>\n",
       "      <th>name</th>\n",
       "      <th>character</th>\n",
       "      <th>role</th>\n",
       "    </tr>\n",
       "  </thead>\n",
       "  <tbody>\n",
       "    <tr>\n",
       "      <th>count</th>\n",
       "      <td>77801</td>\n",
       "      <td>77801</td>\n",
       "      <td>77801</td>\n",
       "      <td>68029</td>\n",
       "      <td>77801</td>\n",
       "    </tr>\n",
       "    <tr>\n",
       "      <th>unique</th>\n",
       "      <td>54589</td>\n",
       "      <td>5489</td>\n",
       "      <td>54314</td>\n",
       "      <td>47274</td>\n",
       "      <td>2</td>\n",
       "    </tr>\n",
       "    <tr>\n",
       "      <th>top</th>\n",
       "      <td>48004</td>\n",
       "      <td>tm32982</td>\n",
       "      <td>Boman Irani</td>\n",
       "      <td>Self</td>\n",
       "      <td>ACTOR</td>\n",
       "    </tr>\n",
       "    <tr>\n",
       "      <th>freq</th>\n",
       "      <td>25</td>\n",
       "      <td>208</td>\n",
       "      <td>25</td>\n",
       "      <td>1950</td>\n",
       "      <td>73251</td>\n",
       "    </tr>\n",
       "  </tbody>\n",
       "</table>\n",
       "</div>"
      ],
      "text/plain": [
       "       person_id       id         name character   role\n",
       "count      77801    77801        77801     68029  77801\n",
       "unique     54589     5489        54314     47274      2\n",
       "top        48004  tm32982  Boman Irani      Self  ACTOR\n",
       "freq          25      208           25      1950  73251"
      ]
     },
     "execution_count": 98,
     "metadata": {},
     "output_type": "execute_result"
    }
   ],
   "source": [
    "D2.describe()"
   ]
  },
  {
   "cell_type": "markdown",
   "metadata": {},
   "source": [
    "#### 保存D2 为 credits_cleaned.csv "
   ]
  },
  {
   "cell_type": "code",
   "execution_count": 131,
   "metadata": {},
   "outputs": [],
   "source": [
    "D2.to_csv(\"credits_cleaned.csv\")"
   ]
  },
  {
   "cell_type": "code",
   "execution_count": 133,
   "metadata": {},
   "outputs": [
    {
     "name": "stdout",
     "output_type": "stream",
     "text": [
      "<class 'pandas.core.frame.DataFrame'>\n",
      "RangeIndex: 77801 entries, 0 to 77800\n",
      "Data columns (total 5 columns):\n",
      " #   Column     Non-Null Count  Dtype \n",
      "---  ------     --------------  ----- \n",
      " 0   person_id  77801 non-null  object\n",
      " 1   id         77801 non-null  object\n",
      " 2   name       77801 non-null  object\n",
      " 3   character  68029 non-null  object\n",
      " 4   role       77801 non-null  object\n",
      "dtypes: object(5)\n",
      "memory usage: 3.0+ MB\n"
     ]
    }
   ],
   "source": [
    "D2.info()"
   ]
  },
  {
   "cell_type": "markdown",
   "metadata": {},
   "source": [
    "## 整理数据"
   ]
  },
  {
   "cell_type": "code",
   "execution_count": 225,
   "metadata": {
    "scrolled": true
   },
   "outputs": [
    {
     "data": {
      "text/html": [
       "<div>\n",
       "<style scoped>\n",
       "    .dataframe tbody tr th:only-of-type {\n",
       "        vertical-align: middle;\n",
       "    }\n",
       "\n",
       "    .dataframe tbody tr th {\n",
       "        vertical-align: top;\n",
       "    }\n",
       "\n",
       "    .dataframe thead th {\n",
       "        text-align: right;\n",
       "    }\n",
       "</style>\n",
       "<table border=\"1\" class=\"dataframe\">\n",
       "  <thead>\n",
       "    <tr style=\"text-align: right;\">\n",
       "      <th></th>\n",
       "      <th>person_id</th>\n",
       "      <th>id</th>\n",
       "      <th>name</th>\n",
       "      <th>character</th>\n",
       "      <th>role</th>\n",
       "      <th>title</th>\n",
       "      <th>type</th>\n",
       "      <th>description</th>\n",
       "      <th>release_year</th>\n",
       "      <th>age_certification</th>\n",
       "      <th>runtime</th>\n",
       "      <th>genres</th>\n",
       "      <th>production_countries</th>\n",
       "      <th>seasons</th>\n",
       "      <th>imdb_id</th>\n",
       "      <th>imdb_score</th>\n",
       "      <th>imdb_votes</th>\n",
       "      <th>tmdb_popularity</th>\n",
       "      <th>tmdb_score</th>\n",
       "    </tr>\n",
       "  </thead>\n",
       "  <tbody>\n",
       "    <tr>\n",
       "      <th>45280</th>\n",
       "      <td>64201</td>\n",
       "      <td>tm164591</td>\n",
       "      <td>Ajay Devgn</td>\n",
       "      <td>Ajay Shastri</td>\n",
       "      <td>ACTOR</td>\n",
       "      <td>Apaharan</td>\n",
       "      <td>MOVIE</td>\n",
       "      <td>Story of a tumultuous and complex relationship...</td>\n",
       "      <td>2005-01-01</td>\n",
       "      <td>NaN</td>\n",
       "      <td>173</td>\n",
       "      <td>crime</td>\n",
       "      <td>IN</td>\n",
       "      <td>NaN</td>\n",
       "      <td>tt0451631</td>\n",
       "      <td>7.4</td>\n",
       "      <td>4773.0</td>\n",
       "      <td>3.860</td>\n",
       "      <td>6.3</td>\n",
       "    </tr>\n",
       "    <tr>\n",
       "      <th>177619</th>\n",
       "      <td>11277</td>\n",
       "      <td>tm1121246</td>\n",
       "      <td>Robbie Amell</td>\n",
       "      <td>Connor Reed</td>\n",
       "      <td>ACTOR</td>\n",
       "      <td>Code 8</td>\n",
       "      <td>MOVIE</td>\n",
       "      <td>In Lincoln City, some inhabitants have extraor...</td>\n",
       "      <td>2019-01-01</td>\n",
       "      <td>NaN</td>\n",
       "      <td>99</td>\n",
       "      <td>action</td>\n",
       "      <td>GB</td>\n",
       "      <td>NaN</td>\n",
       "      <td>tt6259380</td>\n",
       "      <td>6.1</td>\n",
       "      <td>39469.0</td>\n",
       "      <td>18.193</td>\n",
       "      <td>6.2</td>\n",
       "    </tr>\n",
       "    <tr>\n",
       "      <th>90751</th>\n",
       "      <td>610324</td>\n",
       "      <td>ts53249</td>\n",
       "      <td>Lexi Medrano</td>\n",
       "      <td>Claire Nuñez (voice)</td>\n",
       "      <td>ACTOR</td>\n",
       "      <td>Trollhunters: Tales of Arcadia</td>\n",
       "      <td>SHOW</td>\n",
       "      <td>After uncovering a mysterious amulet, an avera...</td>\n",
       "      <td>2016-01-01</td>\n",
       "      <td>TV-Y7</td>\n",
       "      <td>22</td>\n",
       "      <td>animation</td>\n",
       "      <td>US</td>\n",
       "      <td>3.0</td>\n",
       "      <td>tt1734135</td>\n",
       "      <td>8.4</td>\n",
       "      <td>16779.0</td>\n",
       "      <td>50.896</td>\n",
       "      <td>8.5</td>\n",
       "    </tr>\n",
       "    <tr>\n",
       "      <th>195570</th>\n",
       "      <td>1049627</td>\n",
       "      <td>tm369389</td>\n",
       "      <td>María Ángeles Martín</td>\n",
       "      <td>Herself</td>\n",
       "      <td>ACTOR</td>\n",
       "      <td>The Silence of Others</td>\n",
       "      <td>MOVIE</td>\n",
       "      <td>The story of the tortuous struggle against the...</td>\n",
       "      <td>2019-01-01</td>\n",
       "      <td>NaN</td>\n",
       "      <td>95</td>\n",
       "      <td>documentation</td>\n",
       "      <td>US</td>\n",
       "      <td>NaN</td>\n",
       "      <td>tt8099236</td>\n",
       "      <td>8.0</td>\n",
       "      <td>2096.0</td>\n",
       "      <td>9.886</td>\n",
       "      <td>8.2</td>\n",
       "    </tr>\n",
       "    <tr>\n",
       "      <th>96586</th>\n",
       "      <td>692922</td>\n",
       "      <td>tm267135</td>\n",
       "      <td>Livia Dabarian</td>\n",
       "      <td>Executiva empresa 1</td>\n",
       "      <td>ACTOR</td>\n",
       "      <td>The Dreamseller</td>\n",
       "      <td>MOVIE</td>\n",
       "      <td>The main actor believes that true success is t...</td>\n",
       "      <td>2016-01-01</td>\n",
       "      <td>NaN</td>\n",
       "      <td>96</td>\n",
       "      <td>drama</td>\n",
       "      <td>BR</td>\n",
       "      <td>NaN</td>\n",
       "      <td>tt5496926</td>\n",
       "      <td>6.0</td>\n",
       "      <td>1468.0</td>\n",
       "      <td>11.071</td>\n",
       "      <td>6.5</td>\n",
       "    </tr>\n",
       "  </tbody>\n",
       "</table>\n",
       "</div>"
      ],
      "text/plain": [
       "       person_id         id                  name             character  \\\n",
       "45280      64201   tm164591            Ajay Devgn          Ajay Shastri   \n",
       "177619     11277  tm1121246          Robbie Amell           Connor Reed   \n",
       "90751     610324    ts53249          Lexi Medrano  Claire Nuñez (voice)   \n",
       "195570   1049627   tm369389  María Ángeles Martín               Herself   \n",
       "96586     692922   tm267135        Livia Dabarian   Executiva empresa 1   \n",
       "\n",
       "         role                           title   type  \\\n",
       "45280   ACTOR                        Apaharan  MOVIE   \n",
       "177619  ACTOR                          Code 8  MOVIE   \n",
       "90751   ACTOR  Trollhunters: Tales of Arcadia   SHOW   \n",
       "195570  ACTOR           The Silence of Others  MOVIE   \n",
       "96586   ACTOR                 The Dreamseller  MOVIE   \n",
       "\n",
       "                                              description release_year  \\\n",
       "45280   Story of a tumultuous and complex relationship...   2005-01-01   \n",
       "177619  In Lincoln City, some inhabitants have extraor...   2019-01-01   \n",
       "90751   After uncovering a mysterious amulet, an avera...   2016-01-01   \n",
       "195570  The story of the tortuous struggle against the...   2019-01-01   \n",
       "96586   The main actor believes that true success is t...   2016-01-01   \n",
       "\n",
       "       age_certification  runtime         genres production_countries  \\\n",
       "45280                NaN      173          crime                   IN   \n",
       "177619               NaN       99         action                   GB   \n",
       "90751              TV-Y7       22      animation                   US   \n",
       "195570               NaN       95  documentation                   US   \n",
       "96586                NaN       96          drama                   BR   \n",
       "\n",
       "        seasons    imdb_id  imdb_score  imdb_votes  tmdb_popularity  \\\n",
       "45280       NaN  tt0451631         7.4      4773.0            3.860   \n",
       "177619      NaN  tt6259380         6.1     39469.0           18.193   \n",
       "90751       3.0  tt1734135         8.4     16779.0           50.896   \n",
       "195570      NaN  tt8099236         8.0      2096.0            9.886   \n",
       "96586       NaN  tt5496926         6.0      1468.0           11.071   \n",
       "\n",
       "        tmdb_score  \n",
       "45280          6.3  \n",
       "177619         6.2  \n",
       "90751          8.5  \n",
       "195570         8.2  \n",
       "96586          6.5  "
      ]
     },
     "execution_count": 225,
     "metadata": {},
     "output_type": "execute_result"
    }
   ],
   "source": [
    "D=pd.merge(D2,D1,on=\"id\") \n",
    "D.sample(5)"
   ]
  },
  {
   "cell_type": "markdown",
   "metadata": {},
   "source": [
    "只对演员感兴趣，筛选出role只为演员的观察值"
   ]
  },
  {
   "cell_type": "code",
   "execution_count": 228,
   "metadata": {},
   "outputs": [],
   "source": [
    "D_actor=D[D[\"role\"]==\"ACTOR\"]"
   ]
  },
  {
   "cell_type": "markdown",
   "metadata": {},
   "source": [
    "根据流派分类,不同演员分类，获得每个演员多部作品imdb_score评分平均值"
   ]
  },
  {
   "cell_type": "code",
   "execution_count": 249,
   "metadata": {},
   "outputs": [
    {
     "data": {
      "text/plain": [
       "genres   person_id\n",
       "action   1000         6.866667\n",
       "         100007       7.000000\n",
       "         100013       6.400000\n",
       "         100019       6.500000\n",
       "         100020       6.500000\n",
       "                        ...   \n",
       "western  993735       6.500000\n",
       "         998673       7.300000\n",
       "         998674       7.300000\n",
       "         998675       7.300000\n",
       "         99940        4.000000\n",
       "Name: imdb_score, Length: 168881, dtype: float64"
      ]
     },
     "execution_count": 249,
     "metadata": {},
     "output_type": "execute_result"
    }
   ],
   "source": [
    "D_scoremean=D_actor.groupby([\"genres\",\"person_id\"])[\"imdb_score\"].mean()  \n",
    "D_scoremean"
   ]
  },
  {
   "cell_type": "code",
   "execution_count": 253,
   "metadata": {},
   "outputs": [
    {
     "data": {
      "text/html": [
       "<div>\n",
       "<style scoped>\n",
       "    .dataframe tbody tr th:only-of-type {\n",
       "        vertical-align: middle;\n",
       "    }\n",
       "\n",
       "    .dataframe tbody tr th {\n",
       "        vertical-align: top;\n",
       "    }\n",
       "\n",
       "    .dataframe thead th {\n",
       "        text-align: right;\n",
       "    }\n",
       "</style>\n",
       "<table border=\"1\" class=\"dataframe\">\n",
       "  <thead>\n",
       "    <tr style=\"text-align: right;\">\n",
       "      <th></th>\n",
       "      <th>genres</th>\n",
       "      <th>person_id</th>\n",
       "      <th>imdb_score</th>\n",
       "    </tr>\n",
       "  </thead>\n",
       "  <tbody>\n",
       "    <tr>\n",
       "      <th>0</th>\n",
       "      <td>action</td>\n",
       "      <td>1000</td>\n",
       "      <td>6.866667</td>\n",
       "    </tr>\n",
       "    <tr>\n",
       "      <th>1</th>\n",
       "      <td>action</td>\n",
       "      <td>100007</td>\n",
       "      <td>7.000000</td>\n",
       "    </tr>\n",
       "    <tr>\n",
       "      <th>2</th>\n",
       "      <td>action</td>\n",
       "      <td>100013</td>\n",
       "      <td>6.400000</td>\n",
       "    </tr>\n",
       "    <tr>\n",
       "      <th>3</th>\n",
       "      <td>action</td>\n",
       "      <td>100019</td>\n",
       "      <td>6.500000</td>\n",
       "    </tr>\n",
       "    <tr>\n",
       "      <th>4</th>\n",
       "      <td>action</td>\n",
       "      <td>100020</td>\n",
       "      <td>6.500000</td>\n",
       "    </tr>\n",
       "    <tr>\n",
       "      <th>...</th>\n",
       "      <td>...</td>\n",
       "      <td>...</td>\n",
       "      <td>...</td>\n",
       "    </tr>\n",
       "    <tr>\n",
       "      <th>168876</th>\n",
       "      <td>western</td>\n",
       "      <td>993735</td>\n",
       "      <td>6.500000</td>\n",
       "    </tr>\n",
       "    <tr>\n",
       "      <th>168877</th>\n",
       "      <td>western</td>\n",
       "      <td>998673</td>\n",
       "      <td>7.300000</td>\n",
       "    </tr>\n",
       "    <tr>\n",
       "      <th>168878</th>\n",
       "      <td>western</td>\n",
       "      <td>998674</td>\n",
       "      <td>7.300000</td>\n",
       "    </tr>\n",
       "    <tr>\n",
       "      <th>168879</th>\n",
       "      <td>western</td>\n",
       "      <td>998675</td>\n",
       "      <td>7.300000</td>\n",
       "    </tr>\n",
       "    <tr>\n",
       "      <th>168880</th>\n",
       "      <td>western</td>\n",
       "      <td>99940</td>\n",
       "      <td>4.000000</td>\n",
       "    </tr>\n",
       "  </tbody>\n",
       "</table>\n",
       "<p>168881 rows × 3 columns</p>\n",
       "</div>"
      ],
      "text/plain": [
       "         genres person_id  imdb_score\n",
       "0        action      1000    6.866667\n",
       "1        action    100007    7.000000\n",
       "2        action    100013    6.400000\n",
       "3        action    100019    6.500000\n",
       "4        action    100020    6.500000\n",
       "...         ...       ...         ...\n",
       "168876  western    993735    6.500000\n",
       "168877  western    998673    7.300000\n",
       "168878  western    998674    7.300000\n",
       "168879  western    998675    7.300000\n",
       "168880  western     99940    4.000000\n",
       "\n",
       "[168881 rows x 3 columns]"
      ]
     },
     "execution_count": 253,
     "metadata": {},
     "output_type": "execute_result"
    }
   ],
   "source": [
    "D_scoremean=D_scoremean.reset_index()\n",
    "D_scoremean"
   ]
  },
  {
   "cell_type": "markdown",
   "metadata": {},
   "source": [
    "获得演员多个作品的平均评分后，再根据流派分类获得这个流派平均分最高的，以及其对应的演员id"
   ]
  },
  {
   "cell_type": "code",
   "execution_count": 256,
   "metadata": {},
   "outputs": [
    {
     "data": {
      "text/plain": [
       "genres\n",
       "action           9.3\n",
       "animation        9.3\n",
       "comedy           9.2\n",
       "crime            9.5\n",
       "documentation    9.1\n",
       "drama            9.5\n",
       "european         8.9\n",
       "family           9.3\n",
       "fantasy          9.3\n",
       "history          9.1\n",
       "horror           9.0\n",
       "music            8.8\n",
       "reality          8.9\n",
       "romance          9.2\n",
       "scifi            9.3\n",
       "sport            9.1\n",
       "thriller         9.5\n",
       "war              8.8\n",
       "western          8.9\n",
       "Name: imdb_score, dtype: float64"
      ]
     },
     "execution_count": 256,
     "metadata": {},
     "output_type": "execute_result"
    }
   ],
   "source": [
    "D_scoremax=D_scoremean.groupby([\"genres\"])[\"imdb_score\"].max()\n",
    "D_scoremax"
   ]
  },
  {
   "cell_type": "markdown",
   "metadata": {},
   "source": [
    "得到每个流派最高分，但不知道对应的演员id，和之前的表进行连接"
   ]
  },
  {
   "cell_type": "code",
   "execution_count": 279,
   "metadata": {},
   "outputs": [
    {
     "data": {
      "text/html": [
       "<div>\n",
       "<style scoped>\n",
       "    .dataframe tbody tr th:only-of-type {\n",
       "        vertical-align: middle;\n",
       "    }\n",
       "\n",
       "    .dataframe tbody tr th {\n",
       "        vertical-align: top;\n",
       "    }\n",
       "\n",
       "    .dataframe thead th {\n",
       "        text-align: right;\n",
       "    }\n",
       "</style>\n",
       "<table border=\"1\" class=\"dataframe\">\n",
       "  <thead>\n",
       "    <tr style=\"text-align: right;\">\n",
       "      <th></th>\n",
       "      <th>genres</th>\n",
       "      <th>imdb_score</th>\n",
       "      <th>person_id</th>\n",
       "    </tr>\n",
       "  </thead>\n",
       "  <tbody>\n",
       "    <tr>\n",
       "      <th>0</th>\n",
       "      <td>action</td>\n",
       "      <td>9.3</td>\n",
       "      <td>12790</td>\n",
       "    </tr>\n",
       "    <tr>\n",
       "      <th>1</th>\n",
       "      <td>action</td>\n",
       "      <td>9.3</td>\n",
       "      <td>1303</td>\n",
       "    </tr>\n",
       "    <tr>\n",
       "      <th>2</th>\n",
       "      <td>action</td>\n",
       "      <td>9.3</td>\n",
       "      <td>21033</td>\n",
       "    </tr>\n",
       "    <tr>\n",
       "      <th>3</th>\n",
       "      <td>action</td>\n",
       "      <td>9.3</td>\n",
       "      <td>336830</td>\n",
       "    </tr>\n",
       "    <tr>\n",
       "      <th>4</th>\n",
       "      <td>action</td>\n",
       "      <td>9.3</td>\n",
       "      <td>86591</td>\n",
       "    </tr>\n",
       "    <tr>\n",
       "      <th>...</th>\n",
       "      <td>...</td>\n",
       "      <td>...</td>\n",
       "      <td>...</td>\n",
       "    </tr>\n",
       "    <tr>\n",
       "      <th>131</th>\n",
       "      <td>war</td>\n",
       "      <td>8.8</td>\n",
       "      <td>826547</td>\n",
       "    </tr>\n",
       "    <tr>\n",
       "      <th>132</th>\n",
       "      <td>western</td>\n",
       "      <td>8.9</td>\n",
       "      <td>22311</td>\n",
       "    </tr>\n",
       "    <tr>\n",
       "      <th>133</th>\n",
       "      <td>western</td>\n",
       "      <td>8.9</td>\n",
       "      <td>28166</td>\n",
       "    </tr>\n",
       "    <tr>\n",
       "      <th>134</th>\n",
       "      <td>western</td>\n",
       "      <td>8.9</td>\n",
       "      <td>28180</td>\n",
       "    </tr>\n",
       "    <tr>\n",
       "      <th>135</th>\n",
       "      <td>western</td>\n",
       "      <td>8.9</td>\n",
       "      <td>93017</td>\n",
       "    </tr>\n",
       "  </tbody>\n",
       "</table>\n",
       "<p>136 rows × 3 columns</p>\n",
       "</div>"
      ],
      "text/plain": [
       "      genres  imdb_score person_id\n",
       "0     action         9.3     12790\n",
       "1     action         9.3      1303\n",
       "2     action         9.3     21033\n",
       "3     action         9.3    336830\n",
       "4     action         9.3     86591\n",
       "..       ...         ...       ...\n",
       "131      war         8.8    826547\n",
       "132  western         8.9     22311\n",
       "133  western         8.9     28166\n",
       "134  western         8.9     28180\n",
       "135  western         8.9     93017\n",
       "\n",
       "[136 rows x 3 columns]"
      ]
     },
     "execution_count": 279,
     "metadata": {},
     "output_type": "execute_result"
    }
   ],
   "source": [
    "D_score=pd.merge(D_scoremax,D_scoremean,on=[\"genres\",\"imdb_score\"])  \n",
    "D_score"
   ]
  },
  {
   "cell_type": "markdown",
   "metadata": {},
   "source": [
    "有了演员id，但不知道对应的演员名字，从D表中获取演员名字,并去除重复值"
   ]
  },
  {
   "cell_type": "code",
   "execution_count": 275,
   "metadata": {
    "scrolled": true
   },
   "outputs": [
    {
     "data": {
      "text/html": [
       "<div>\n",
       "<style scoped>\n",
       "    .dataframe tbody tr th:only-of-type {\n",
       "        vertical-align: middle;\n",
       "    }\n",
       "\n",
       "    .dataframe tbody tr th {\n",
       "        vertical-align: top;\n",
       "    }\n",
       "\n",
       "    .dataframe thead th {\n",
       "        text-align: right;\n",
       "    }\n",
       "</style>\n",
       "<table border=\"1\" class=\"dataframe\">\n",
       "  <thead>\n",
       "    <tr style=\"text-align: right;\">\n",
       "      <th></th>\n",
       "      <th>person_id</th>\n",
       "      <th>name</th>\n",
       "    </tr>\n",
       "  </thead>\n",
       "  <tbody>\n",
       "    <tr>\n",
       "      <th>0</th>\n",
       "      <td>3748</td>\n",
       "      <td>Robert De Niro</td>\n",
       "    </tr>\n",
       "    <tr>\n",
       "      <th>2</th>\n",
       "      <td>14658</td>\n",
       "      <td>Jodie Foster</td>\n",
       "    </tr>\n",
       "    <tr>\n",
       "      <th>4</th>\n",
       "      <td>7064</td>\n",
       "      <td>Albert Brooks</td>\n",
       "    </tr>\n",
       "    <tr>\n",
       "      <th>6</th>\n",
       "      <td>3739</td>\n",
       "      <td>Harvey Keitel</td>\n",
       "    </tr>\n",
       "    <tr>\n",
       "      <th>8</th>\n",
       "      <td>48933</td>\n",
       "      <td>Cybill Shepherd</td>\n",
       "    </tr>\n",
       "    <tr>\n",
       "      <th>...</th>\n",
       "      <td>...</td>\n",
       "      <td>...</td>\n",
       "    </tr>\n",
       "    <tr>\n",
       "      <th>276104</th>\n",
       "      <td>736339</td>\n",
       "      <td>Adelaida Buscato</td>\n",
       "    </tr>\n",
       "    <tr>\n",
       "      <th>276105</th>\n",
       "      <td>399499</td>\n",
       "      <td>Luz Stella Luengas</td>\n",
       "    </tr>\n",
       "    <tr>\n",
       "      <th>276106</th>\n",
       "      <td>373198</td>\n",
       "      <td>Inés Prieto</td>\n",
       "    </tr>\n",
       "    <tr>\n",
       "      <th>276107</th>\n",
       "      <td>378132</td>\n",
       "      <td>Isabel Gaona</td>\n",
       "    </tr>\n",
       "    <tr>\n",
       "      <th>276108</th>\n",
       "      <td>1950416</td>\n",
       "      <td>Julian Gaviria</td>\n",
       "    </tr>\n",
       "  </tbody>\n",
       "</table>\n",
       "<p>52544 rows × 2 columns</p>\n",
       "</div>"
      ],
      "text/plain": [
       "       person_id                name\n",
       "0           3748      Robert De Niro\n",
       "2          14658        Jodie Foster\n",
       "4           7064       Albert Brooks\n",
       "6           3739       Harvey Keitel\n",
       "8          48933     Cybill Shepherd\n",
       "...          ...                 ...\n",
       "276104    736339    Adelaida Buscato\n",
       "276105    399499  Luz Stella Luengas\n",
       "276106    373198         Inés Prieto\n",
       "276107    378132        Isabel Gaona\n",
       "276108   1950416      Julian Gaviria\n",
       "\n",
       "[52544 rows x 2 columns]"
      ]
     },
     "execution_count": 275,
     "metadata": {},
     "output_type": "execute_result"
    }
   ],
   "source": [
    "D_name=D[[\"person_id\",\"name\"]].drop_duplicates()   \n",
    "D_name"
   ]
  },
  {
   "cell_type": "markdown",
   "metadata": {},
   "source": [
    "与评分表进行连接"
   ]
  },
  {
   "cell_type": "code",
   "execution_count": 283,
   "metadata": {
    "scrolled": true
   },
   "outputs": [
    {
     "data": {
      "text/html": [
       "<div>\n",
       "<style scoped>\n",
       "    .dataframe tbody tr th:only-of-type {\n",
       "        vertical-align: middle;\n",
       "    }\n",
       "\n",
       "    .dataframe tbody tr th {\n",
       "        vertical-align: top;\n",
       "    }\n",
       "\n",
       "    .dataframe thead th {\n",
       "        text-align: right;\n",
       "    }\n",
       "</style>\n",
       "<table border=\"1\" class=\"dataframe\">\n",
       "  <thead>\n",
       "    <tr style=\"text-align: right;\">\n",
       "      <th></th>\n",
       "      <th>genres</th>\n",
       "      <th>imdb_score</th>\n",
       "      <th>person_id</th>\n",
       "      <th>name</th>\n",
       "    </tr>\n",
       "  </thead>\n",
       "  <tbody>\n",
       "    <tr>\n",
       "      <th>0</th>\n",
       "      <td>action</td>\n",
       "      <td>9.3</td>\n",
       "      <td>12790</td>\n",
       "      <td>Olivia Hack</td>\n",
       "    </tr>\n",
       "    <tr>\n",
       "      <th>1</th>\n",
       "      <td>action</td>\n",
       "      <td>9.3</td>\n",
       "      <td>1303</td>\n",
       "      <td>Jessie Flower</td>\n",
       "    </tr>\n",
       "    <tr>\n",
       "      <th>2</th>\n",
       "      <td>action</td>\n",
       "      <td>9.3</td>\n",
       "      <td>21033</td>\n",
       "      <td>Zach Tyler</td>\n",
       "    </tr>\n",
       "    <tr>\n",
       "      <th>3</th>\n",
       "      <td>action</td>\n",
       "      <td>9.3</td>\n",
       "      <td>336830</td>\n",
       "      <td>André Sogliuzzo</td>\n",
       "    </tr>\n",
       "    <tr>\n",
       "      <th>4</th>\n",
       "      <td>action</td>\n",
       "      <td>9.3</td>\n",
       "      <td>86591</td>\n",
       "      <td>Cricket Leigh</td>\n",
       "    </tr>\n",
       "    <tr>\n",
       "      <th>...</th>\n",
       "      <td>...</td>\n",
       "      <td>...</td>\n",
       "      <td>...</td>\n",
       "      <td>...</td>\n",
       "    </tr>\n",
       "    <tr>\n",
       "      <th>131</th>\n",
       "      <td>war</td>\n",
       "      <td>8.8</td>\n",
       "      <td>826547</td>\n",
       "      <td>Yuto Uemura</td>\n",
       "    </tr>\n",
       "    <tr>\n",
       "      <th>132</th>\n",
       "      <td>western</td>\n",
       "      <td>8.9</td>\n",
       "      <td>22311</td>\n",
       "      <td>Koichi Yamadera</td>\n",
       "    </tr>\n",
       "    <tr>\n",
       "      <th>133</th>\n",
       "      <td>western</td>\n",
       "      <td>8.9</td>\n",
       "      <td>28166</td>\n",
       "      <td>Megumi Hayashibara</td>\n",
       "    </tr>\n",
       "    <tr>\n",
       "      <th>134</th>\n",
       "      <td>western</td>\n",
       "      <td>8.9</td>\n",
       "      <td>28180</td>\n",
       "      <td>Unsho Ishizuka</td>\n",
       "    </tr>\n",
       "    <tr>\n",
       "      <th>135</th>\n",
       "      <td>western</td>\n",
       "      <td>8.9</td>\n",
       "      <td>93017</td>\n",
       "      <td>Aoi Tada</td>\n",
       "    </tr>\n",
       "  </tbody>\n",
       "</table>\n",
       "<p>136 rows × 4 columns</p>\n",
       "</div>"
      ],
      "text/plain": [
       "      genres  imdb_score person_id                name\n",
       "0     action         9.3     12790         Olivia Hack\n",
       "1     action         9.3      1303       Jessie Flower\n",
       "2     action         9.3     21033          Zach Tyler\n",
       "3     action         9.3    336830     André Sogliuzzo\n",
       "4     action         9.3     86591       Cricket Leigh\n",
       "..       ...         ...       ...                 ...\n",
       "131      war         8.8    826547         Yuto Uemura\n",
       "132  western         8.9     22311     Koichi Yamadera\n",
       "133  western         8.9     28166  Megumi Hayashibara\n",
       "134  western         8.9     28180      Unsho Ishizuka\n",
       "135  western         8.9     93017            Aoi Tada\n",
       "\n",
       "[136 rows x 4 columns]"
      ]
     },
     "execution_count": 283,
     "metadata": {},
     "output_type": "execute_result"
    }
   ],
   "source": [
    "D_best=pd.merge(D_score,D_name,on=\"person_id\")  \n",
    "D_best"
   ]
  },
  {
   "cell_type": "code",
   "execution_count": null,
   "metadata": {},
   "outputs": [],
   "source": []
  }
 ],
 "metadata": {
  "kernelspec": {
   "display_name": "Python [conda env:base] *",
   "language": "python",
   "name": "conda-base-py"
  },
  "language_info": {
   "codemirror_mode": {
    "name": "ipython",
    "version": 3
   },
   "file_extension": ".py",
   "mimetype": "text/x-python",
   "name": "python",
   "nbconvert_exporter": "python",
   "pygments_lexer": "ipython3",
   "version": "3.12.7"
  }
 },
 "nbformat": 4,
 "nbformat_minor": 4
}
